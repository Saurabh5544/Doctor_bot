{
 "cells": [
  {
   "cell_type": "code",
   "execution_count": 1,
   "id": "4da1eeba",
   "metadata": {},
   "outputs": [
    {
     "name": "stdout",
     "output_type": "stream",
     "text": [
      "ok\n"
     ]
    }
   ],
   "source": [
    "print(\"ok\")"
   ]
  },
  {
   "cell_type": "code",
   "execution_count": 1,
   "id": "3b7db8a8",
   "metadata": {},
   "outputs": [
    {
     "data": {
      "text/plain": [
       "'d:\\\\My projects\\\\Doctor_bot\\\\research'"
      ]
     },
     "execution_count": 1,
     "metadata": {},
     "output_type": "execute_result"
    }
   ],
   "source": [
    "%pwd"
   ]
  },
  {
   "cell_type": "code",
   "execution_count": 2,
   "id": "ade6ca23",
   "metadata": {},
   "outputs": [],
   "source": [
    "import os\n",
    "os.chdir(\"../\")"
   ]
  },
  {
   "cell_type": "code",
   "execution_count": 3,
   "id": "15779fe0",
   "metadata": {},
   "outputs": [
    {
     "data": {
      "text/plain": [
       "'d:\\\\My projects\\\\Doctor_bot'"
      ]
     },
     "execution_count": 3,
     "metadata": {},
     "output_type": "execute_result"
    }
   ],
   "source": [
    "%pwd"
   ]
  },
  {
   "cell_type": "code",
   "execution_count": 4,
   "id": "a6ec40a5",
   "metadata": {},
   "outputs": [],
   "source": [
    "from langchain.document_loaders import PyPDFLoader, DirectoryLoader\n",
    "from langchain.text_splitter import RecursiveCharacterTextSplitter\n"
   ]
  },
  {
   "cell_type": "code",
   "execution_count": 5,
   "id": "6fafe428",
   "metadata": {},
   "outputs": [],
   "source": [
    "# Extract Data from the PDF file\n",
    "def load_pdf_file(data):\n",
    "    loader = DirectoryLoader(data,\n",
    "                             glob=\"*.pdf\",\n",
    "                             loader_cls=PyPDFLoader)\n",
    "    documents=loader.load()\n",
    "\n",
    "    return documents"
   ]
  },
  {
   "cell_type": "code",
   "execution_count": 6,
   "id": "ebc33a37",
   "metadata": {},
   "outputs": [],
   "source": [
    "extracted_data=load_pdf_file(data='Data/')"
   ]
  },
  {
   "cell_type": "code",
   "execution_count": 7,
   "id": "b74bef43",
   "metadata": {},
   "outputs": [],
   "source": [
    "# extracted_data"
   ]
  },
  {
   "cell_type": "code",
   "execution_count": 8,
   "id": "ee7aa237",
   "metadata": {},
   "outputs": [],
   "source": [
    "def text_split(extracted_data):\n",
    "    text_splitter=RecursiveCharacterTextSplitter(chunk_size=500,chunk_overlap=20)\n",
    "    text_chunk=text_splitter.split_documents(extracted_data)\n",
    "    return text_chunk"
   ]
  },
  {
   "cell_type": "code",
   "execution_count": 9,
   "id": "e3a8ffd5",
   "metadata": {},
   "outputs": [
    {
     "name": "stdout",
     "output_type": "stream",
     "text": [
      "Length of Text Chunks 5859\n"
     ]
    }
   ],
   "source": [
    "text_chunks=text_split(extracted_data)\n",
    "print(\"Length of Text Chunks\",len(text_chunks))"
   ]
  },
  {
   "cell_type": "code",
   "execution_count": 10,
   "id": "3efc8ad7",
   "metadata": {},
   "outputs": [],
   "source": [
    "# text_chunks"
   ]
  },
  {
   "cell_type": "code",
   "execution_count": 11,
   "id": "ce42064a",
   "metadata": {},
   "outputs": [],
   "source": [
    "from langchain.embeddings import HuggingFaceEmbeddings"
   ]
  },
  {
   "cell_type": "code",
   "execution_count": 12,
   "id": "33b01bdb",
   "metadata": {},
   "outputs": [],
   "source": [
    "from langchain_community.embeddings import HuggingFaceEmbeddings\n",
    "\n",
    "def download_hugging_face_embeddings():\n",
    "    embeddings = HuggingFaceEmbeddings(\n",
    "        model_name='sentence-transformers/all-MiniLM-L6-v2'\n",
    "    )\n",
    "    return embeddings\n"
   ]
  },
  {
   "cell_type": "code",
   "execution_count": 13,
   "id": "205819de",
   "metadata": {},
   "outputs": [
    {
     "name": "stderr",
     "output_type": "stream",
     "text": [
      "C:\\Users\\gjyot\\AppData\\Local\\Temp\\ipykernel_6704\\119269335.py:4: LangChainDeprecationWarning: The class `HuggingFaceEmbeddings` was deprecated in LangChain 0.2.2 and will be removed in 1.0. An updated version of the class exists in the :class:`~langchain-huggingface package and should be used instead. To use it run `pip install -U :class:`~langchain-huggingface` and import as `from :class:`~langchain_huggingface import HuggingFaceEmbeddings``.\n",
      "  embeddings = HuggingFaceEmbeddings(\n",
      "d:\\Users\\gjyot\\anaconda3\\envs\\DCbot\\lib\\site-packages\\tqdm\\auto.py:21: TqdmWarning: IProgress not found. Please update jupyter and ipywidgets. See https://ipywidgets.readthedocs.io/en/stable/user_install.html\n",
      "  from .autonotebook import tqdm as notebook_tqdm\n"
     ]
    }
   ],
   "source": [
    "embedding = download_hugging_face_embeddings()"
   ]
  },
  {
   "cell_type": "code",
   "execution_count": 14,
   "id": "38f40fcf",
   "metadata": {},
   "outputs": [
    {
     "name": "stdout",
     "output_type": "stream",
     "text": [
      "Length 384\n"
     ]
    }
   ],
   "source": [
    "query_result = embedding.embed_query(\"hello Saurabh\")\n",
    "print(\"Length\", len(query_result))"
   ]
  },
  {
   "cell_type": "code",
   "execution_count": 15,
   "id": "4d0af5b7",
   "metadata": {},
   "outputs": [],
   "source": [
    "# query_result"
   ]
  },
  {
   "cell_type": "code",
   "execution_count": 16,
   "id": "c74b9fc5",
   "metadata": {},
   "outputs": [
    {
     "data": {
      "text/plain": [
       "True"
      ]
     },
     "execution_count": 16,
     "metadata": {},
     "output_type": "execute_result"
    }
   ],
   "source": [
    "from dotenv import load_dotenv\n",
    "import os\n",
    "load_dotenv()"
   ]
  },
  {
   "cell_type": "code",
   "execution_count": 33,
   "id": "876aeb56",
   "metadata": {},
   "outputs": [],
   "source": [
    "PINECONE_API_KEY=os.environ.get('PINECONE_API_KEY')\n",
    "OPENROUTER_API_KEY=os.environ.get('OPENROUTER_API_KEY')\n",
    "api_base = os.getenv(\"OPENROUTER_API_BASE\")"
   ]
  },
  {
   "cell_type": "code",
   "execution_count": 18,
   "id": "c11360ef",
   "metadata": {},
   "outputs": [
    {
     "data": {
      "text/plain": [
       "'d:\\\\My projects\\\\Doctor_bot'"
      ]
     },
     "execution_count": 18,
     "metadata": {},
     "output_type": "execute_result"
    }
   ],
   "source": [
    "%pwd"
   ]
  },
  {
   "cell_type": "code",
   "execution_count": null,
   "id": "0a4875a2",
   "metadata": {},
   "outputs": [],
   "source": [
    "os.environ[\"PINECONE_API_KEY\"] = PINECONE_API_KEY\n",
    "os.environ[\"OPENROUTER_API_KEY\"] = OPENROUTER_API_KEY \n"
   ]
  },
  {
   "cell_type": "code",
   "execution_count": 20,
   "id": "55cd4fb0",
   "metadata": {},
   "outputs": [],
   "source": [
    "from pinecone import Pinecone\n",
    "\n",
    "pinecone_api_key = PINECONE_API_KEY\n",
    "\n",
    "pc = Pinecone(api_key=pinecone_api_key)"
   ]
  },
  {
   "cell_type": "code",
   "execution_count": 21,
   "id": "dd15b4ac",
   "metadata": {},
   "outputs": [],
   "source": [
    "from pinecone import ServerlessSpec\n",
    "\n",
    "index_name = \"medical-bot\"  # change if desired\n",
    "\n",
    "if not pc.has_index(index_name):\n",
    "    pc.create_index(\n",
    "        name=index_name,\n",
    "        dimension=384,\n",
    "        metric=\"cosine\",\n",
    "        spec=ServerlessSpec(cloud=\"aws\", region=\"us-east-1\"),\n",
    "    )\n",
    "\n",
    "index = pc.Index(index_name)"
   ]
  },
  {
   "cell_type": "code",
   "execution_count": 22,
   "id": "d66ed82c",
   "metadata": {},
   "outputs": [],
   "source": [
    "from langchain_pinecone import PineconeVectorStore\n",
    "\n",
    "docsearch = PineconeVectorStore.from_documents(\n",
    "    documents=text_chunks,\n",
    "    index_name=index_name,\n",
    "    embedding=embedding, \n",
    ")"
   ]
  },
  {
   "cell_type": "code",
   "execution_count": 23,
   "id": "f9991459",
   "metadata": {},
   "outputs": [],
   "source": [
    "# load Existing index\n",
    "from langchain_pinecone import PineconeVectorStore\n",
    "docsearch = PineconeVectorStore.from_existing_index(\n",
    "    index_name=index_name,\n",
    "    embedding=embedding\n",
    ")"
   ]
  },
  {
   "cell_type": "code",
   "execution_count": 24,
   "id": "639403d1",
   "metadata": {},
   "outputs": [
    {
     "data": {
      "text/plain": [
       "<langchain_pinecone.vectorstores.PineconeVectorStore at 0x1ee63e9e440>"
      ]
     },
     "execution_count": 24,
     "metadata": {},
     "output_type": "execute_result"
    }
   ],
   "source": [
    "docsearch"
   ]
  },
  {
   "cell_type": "code",
   "execution_count": 25,
   "id": "56a931c3",
   "metadata": {},
   "outputs": [],
   "source": [
    "retriever = docsearch.as_retriever(search_type=\"similarity\",search_kwargs={\"k\":3})"
   ]
  },
  {
   "cell_type": "code",
   "execution_count": 26,
   "id": "ff1fec21",
   "metadata": {},
   "outputs": [],
   "source": [
    "retriever_docs = retriever.invoke(\"What is Abdominal ultrasound\")\n"
   ]
  },
  {
   "cell_type": "code",
   "execution_count": 27,
   "id": "bc9cb735",
   "metadata": {},
   "outputs": [
    {
     "data": {
      "text/plain": [
       "[Document(id='f566aba0-b984-44c1-b1ef-1cce54616588', metadata={'creationdate': '2004-12-18T17:00:02-05:00', 'creator': 'PyPDF', 'moddate': '2004-12-18T16:15:31-06:00', 'page': 18.0, 'page_label': '19', 'producer': 'PDFlib+PDI 5.0.0 (SunOS)', 'source': 'Data\\\\Medical_book.pdf', 'total_pages': 637.0}, page_content='an abdominal ultrasound, as a fetus in the early stages of\\ndevelopment could be injured by ultrasound meant to\\nprobe deeply recessed abdominal organs.\\nNormal results\\nAs a diagnostic imaging technique, a normal abdom-\\ninal ultrasound is one that indicates the absence of the\\nsuspected condition that prompted the scan. For example,\\nsymptoms such as a persistent cough, labored breathing,\\nand upper abdominal pain suggest the possibility of,\\namong other things, an abdominal aortic aneurysm. An'),\n",
       " Document(id='98208934-d2c5-4033-b2bf-26f45f2a6a7a', metadata={'creationdate': '2004-12-18T17:00:02-05:00', 'creator': 'PyPDF', 'moddate': '2004-12-18T16:15:31-06:00', 'page': 18.0, 'page_label': '19', 'producer': 'PDFlib+PDI 5.0.0 (SunOS)', 'source': 'Data\\\\Medical_book.pdf', 'total_pages': 637.0}, page_content='an abdominal ultrasound, as a fetus in the early stages of\\ndevelopment could be injured by ultrasound meant to\\nprobe deeply recessed abdominal organs.\\nNormal results\\nAs a diagnostic imaging technique, a normal abdom-\\ninal ultrasound is one that indicates the absence of the\\nsuspected condition that prompted the scan. For example,\\nsymptoms such as a persistent cough, labored breathing,\\nand upper abdominal pain suggest the possibility of,\\namong other things, an abdominal aortic aneurysm. An'),\n",
       " Document(id='07fada86-0034-448d-a54d-f98e08fff02f', metadata={'creationdate': '2004-12-18T17:00:02-05:00', 'creator': 'PyPDF', 'moddate': '2004-12-18T16:15:31-06:00', 'page': 18.0, 'page_label': '19', 'producer': 'PDFlib+PDI 5.0.0 (SunOS)', 'source': 'Data\\\\Medical_book.pdf', 'total_pages': 637.0}, page_content='an abdominal ultrasound, as a fetus in the early stages of\\ndevelopment could be injured by ultrasound meant to\\nprobe deeply recessed abdominal organs.\\nNormal results\\nAs a diagnostic imaging technique, a normal abdom-\\ninal ultrasound is one that indicates the absence of the\\nsuspected condition that prompted the scan. For example,\\nsymptoms such as a persistent cough, labored breathing,\\nand upper abdominal pain suggest the possibility of,\\namong other things, an abdominal aortic aneurysm. An')]"
      ]
     },
     "execution_count": 27,
     "metadata": {},
     "output_type": "execute_result"
    }
   ],
   "source": [
    "retriever_docs"
   ]
  },
  {
   "cell_type": "code",
   "execution_count": 28,
   "id": "80f46130",
   "metadata": {},
   "outputs": [],
   "source": [
    "# import os\n",
    "# from dotenv import load_dotenv\n",
    "# from langchain_openai import ChatOpenAI\n",
    "\n",
    "# # Load environment variables\n",
    "# load_dotenv()\n",
    "\n",
    "# # Get API values\n",
    "# api_key = os.getenv(\"OPENROUTER_API_KEY\")\n",
    "# api_base = os.getenv(\"OPENROUTER_API_BASE\")\n",
    "\n",
    "# # Initialize the model\n",
    "# llm = ChatOpenAI(\n",
    "#     openai_api_key=api_key,\n",
    "#     openai_api_base=api_base,\n",
    "#     model=\"openai/gpt-4o-mini\",  # pick any model from OpenRouter\n",
    "# )\n",
    "\n",
    "# # Test\n",
    "# response = llm.invoke(\"Hello, OpenRouter with LangChain + .env!\")\n",
    "# print(response)\n"
   ]
  },
  {
   "cell_type": "code",
   "execution_count": 41,
   "id": "6922dfaa",
   "metadata": {},
   "outputs": [],
   "source": [
    "from langchain_openai import ChatOpenAI\n",
    "llm = ChatOpenAI(\n",
    "    openai_api_key=OPENROUTER_API_KEY,\n",
    "    openai_api_base=api_base,\n",
    "    model=\"gpt-4o-mini\"\n",
    ")"
   ]
  },
  {
   "cell_type": "code",
   "execution_count": 43,
   "id": "a23b8039",
   "metadata": {},
   "outputs": [],
   "source": [
    "from langchain.chains import create_retrieval_chain\n",
    "from langchain.chains.combine_documents import create_stuff_documents_chain\n",
    "from langchain_core.prompts import ChatPromptTemplate\n",
    "\n",
    "\n",
    "system_prompt = (\n",
    "    \"You are an assistant for qustion-answering task.\"\n",
    "    \"Use the following pieces of retrieved context to answer \"\n",
    "    \"the question. If you don't know the answer, say that you \"\n",
    "    \"don't know. Use three sentences maximum and keep the \"\n",
    "    \"answer concise.\"\n",
    "    \"\\n\\n\"\n",
    "    \"{context}\"\n",
    ")\n",
    "\n",
    "prompt = ChatPromptTemplate.from_messages(\n",
    "    [\n",
    "        (\"system\", system_prompt),\n",
    "        (\"human\", \"{input}\"),\n",
    "    ]\n",
    ")"
   ]
  },
  {
   "cell_type": "code",
   "execution_count": 44,
   "id": "0ea6c8cc",
   "metadata": {},
   "outputs": [],
   "source": [
    "question_answer_chain = create_stuff_documents_chain(llm, prompt)\n",
    "rag_chain = create_retrieval_chain(retriever, question_answer_chain)"
   ]
  },
  {
   "cell_type": "code",
   "execution_count": null,
   "id": "5929340b",
   "metadata": {},
   "outputs": [],
   "source": [
    "# def format_rag_output(rag_result):\n",
    "#     # Extract the answer\n",
    "#     answer = rag_result.get(\"answer\", \"No answer found.\")\n",
    "    \n",
    "#     # Extract unique sources\n",
    "#     sources = []\n",
    "#     for doc in rag_result.get(\"context\", []):\n",
    "#         page = doc.metadata.get(\"page_label\") or doc.metadata.get(\"page\")\n",
    "#         source = doc.metadata.get(\"source\")\n",
    "#         if source and page:\n",
    "#             sources.append(f\"{source} (page {page})\")\n",
    "#         elif source:\n",
    "#             sources.append(source)\n",
    "    \n",
    "#     # Deduplicate sources\n",
    "#     sources = list(set(sources))\n",
    "    \n",
    "#     # Build final formatted output\n",
    "#     output = f\"📖 **Answer:**\\n{answer}\\n\\n\"\n",
    "#     if sources:\n",
    "#         output += \"🔎 **Sources:**\\n\" + \"\\n\".join([f\"- {s}\" for s in sources])\n",
    "    \n",
    "#     return output\n"
   ]
  },
  {
   "cell_type": "code",
   "execution_count": 45,
   "id": "f90dd434",
   "metadata": {},
   "outputs": [
    {
     "name": "stdout",
     "output_type": "stream",
     "text": [
      "{'input': 'What is Abortion, therapeutic', 'context': [Document(id='ee9031af-5c9e-446f-b636-28dfb847f1ed', metadata={'creationdate': '2004-12-18T17:00:02-05:00', 'creator': 'PyPDF', 'moddate': '2004-12-18T16:15:31-06:00', 'page': 22.0, 'page_label': '23', 'producer': 'PDFlib+PDI 5.0.0 (SunOS)', 'source': 'Data\\\\Medical_book.pdf', 'total_pages': 637.0}, page_content='ORGANIZATIONS\\nThe American Society for Reproductive Medicine. 1209 Mont-\\ngomery Highway, Birmingham, AL 35216-2809. (205)\\n978-5000. <http://www.asrm.org>.\\nThe Alan Guttmacher Institute. 120 Wall Street, New York, NY\\n10005. (212) 248-1111. <http://www.agi-usa.org>.\\nMeghan M. Gourley\\nAbortion, spontaneous see Miscarriage\\nAbortion, therapeutic\\nDefinition\\nTherapeutic abortion is the intentional termination\\nof a pregnancy before the fetus can live independently.'), Document(id='b6f5f3e7-d767-49c8-b4e0-38ec33384bdf', metadata={'creationdate': '2004-12-18T17:00:02-05:00', 'creator': 'PyPDF', 'moddate': '2004-12-18T16:15:31-06:00', 'page': 22.0, 'page_label': '23', 'producer': 'PDFlib+PDI 5.0.0 (SunOS)', 'source': 'Data\\\\Medical_book.pdf', 'total_pages': 637.0}, page_content='ORGANIZATIONS\\nThe American Society for Reproductive Medicine. 1209 Mont-\\ngomery Highway, Birmingham, AL 35216-2809. (205)\\n978-5000. <http://www.asrm.org>.\\nThe Alan Guttmacher Institute. 120 Wall Street, New York, NY\\n10005. (212) 248-1111. <http://www.agi-usa.org>.\\nMeghan M. Gourley\\nAbortion, spontaneous see Miscarriage\\nAbortion, therapeutic\\nDefinition\\nTherapeutic abortion is the intentional termination\\nof a pregnancy before the fetus can live independently.'), Document(id='57d58c1c-a5c7-4054-8a72-21eba40049a5', metadata={'creationdate': '2004-12-18T17:00:02-05:00', 'creator': 'PyPDF', 'moddate': '2004-12-18T16:15:31-06:00', 'page': 22.0, 'page_label': '23', 'producer': 'PDFlib+PDI 5.0.0 (SunOS)', 'source': 'Data\\\\Medical_book.pdf', 'total_pages': 637.0}, page_content='ORGANIZATIONS\\nThe American Society for Reproductive Medicine. 1209 Mont-\\ngomery Highway, Birmingham, AL 35216-2809. (205)\\n978-5000. <http://www.asrm.org>.\\nThe Alan Guttmacher Institute. 120 Wall Street, New York, NY\\n10005. (212) 248-1111. <http://www.agi-usa.org>.\\nMeghan M. Gourley\\nAbortion, spontaneous see Miscarriage\\nAbortion, therapeutic\\nDefinition\\nTherapeutic abortion is the intentional termination\\nof a pregnancy before the fetus can live independently.')], 'answer': 'Therapeutic abortion is the intentional termination of a pregnancy before the fetus can live independently.'}\n"
     ]
    }
   ],
   "source": [
    "response = rag_chain.invoke({\"input\": \"What is Abortion, therapeutic\"})\n",
    "# print(format_rag_output(response))\n",
    "print(response)"
   ]
  },
  {
   "cell_type": "code",
   "execution_count": null,
   "id": "2efa2b05",
   "metadata": {},
   "outputs": [],
   "source": []
  }
 ],
 "metadata": {
  "kernelspec": {
   "display_name": "DCbot",
   "language": "python",
   "name": "python3"
  },
  "language_info": {
   "codemirror_mode": {
    "name": "ipython",
    "version": 3
   },
   "file_extension": ".py",
   "mimetype": "text/x-python",
   "name": "python",
   "nbconvert_exporter": "python",
   "pygments_lexer": "ipython3",
   "version": "3.10.18"
  }
 },
 "nbformat": 4,
 "nbformat_minor": 5
}
